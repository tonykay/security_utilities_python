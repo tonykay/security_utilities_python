{
 "cells": [
  {
   "cell_type": "markdown",
   "id": "118b99db-a073-438a-a5d2-58750b673f71",
   "metadata": {
    "tags": []
   },
   "source": [
    "## Parsing command line arguments with optparse\n",
    "\n",
    "Prefer argparse (but see Pavel's recommendations)"
   ]
  },
  {
   "cell_type": "code",
   "execution_count": 3,
   "id": "e542d3cb-4709-4055-9932-0b635cc35307",
   "metadata": {
    "tags": [
     "verbose"
    ]
   },
   "outputs": [
    {
     "name": "stdout",
     "output_type": "stream",
     "text": [
      "Verbose on\n"
     ]
    }
   ],
   "source": [
    "verbose = True\n",
    "\n",
    "if verbose:\n",
    "    print(\"Verbose on\")"
   ]
  },
  {
   "cell_type": "code",
   "execution_count": null,
   "id": "e90c777b-a97c-4822-aefb-39758339c375",
   "metadata": {},
   "outputs": [],
   "source": []
  },
  {
   "cell_type": "code",
   "execution_count": 6,
   "id": "6bd8fb9a-7ce4-4896-ab28-3d6d17e03af8",
   "metadata": {},
   "outputs": [
    {
     "name": "stderr",
     "output_type": "stream",
     "text": [
      "usage: ipykernel_launcher.py [-h] [-v] [-r ROUTER] [-t TARGET]\n",
      "ipykernel_launcher.py: error: unrecognized arguments: -f /Users/tok/Library/Jupyter/runtime/kernel-84e2d4c1-597a-45a7-b2d5-3ffde94dc95e.json\n"
     ]
    },
    {
     "ename": "SystemExit",
     "evalue": "2",
     "output_type": "error",
     "traceback": [
      "An exception has occurred, use %tb to see the full traceback.\n",
      "\u001b[0;31mSystemExit\u001b[0m\u001b[0;31m:\u001b[0m 2\n"
     ]
    },
    {
     "name": "stderr",
     "output_type": "stream",
     "text": [
      "/opt/homebrew/lib/python3.9/site-packages/IPython/core/interactiveshell.py:3452: UserWarning: To exit: use 'exit', 'quit', or Ctrl-D.\n",
      "  warn(\"To exit: use 'exit', 'quit', or Ctrl-D.\", stacklevel=1)\n"
     ]
    }
   ],
   "source": [
    "import argparse\n",
    "\n",
    "def get_arguments():\n",
    "    parser = argparse.ArgumentParser()\n",
    "    parser.add_argument(\"-v\", \"--verbose\", help=\"Increase output verbosity\", action=\"store_true\")\n",
    "    parser.add_argument(\"-r\", \"--router\", type=str, help=\"Router IP\")\n",
    "    parser.add_argument(\"-t\", \"--target\", type=str, help=\"Target IP\")\n",
    "    args = parser.parse_args()\n",
    "    if args.verbose:\n",
    "        print(\"[+] verbosity turned on\")\n",
    "        print(args.target, args.router)\n",
    "    if not args.router:\n",
    "        parser.error(\"[-] Please specify a router IP or use --help for more info.\")\n",
    "    if not args.target:\n",
    "        parser.error(\"[-] Please specify a target IP or use --help for more info.\")\n",
    "    return args\n",
    "\n",
    "get_arguments()"
   ]
  },
  {
   "cell_type": "code",
   "execution_count": 2,
   "id": "94bfe3e3-8ee7-4e04-b1ce-1f4175c7bde1",
   "metadata": {},
   "outputs": [],
   "source": [
    "import optparse\n",
    "\n",
    "def get_arguments():    \n",
    "    parser = optparse.OptionParser()\n",
    "    parser.add_option(\"-v\", action=\"store_true\", dest=\"verbose\",default=False, help=\"Set verbose output\")\n",
    "    # parser.add_option(\"-v\", \"--verbose\", dest=\"verbose\", help=\"Verbose output\")\n",
    "    (options, arguments) = parser.parse_args()\n",
    "    # if not options.verbose:\n",
    "    #     verbose = False\n",
    "    return options\n",
    "\n",
    "# get_arguments()"
   ]
  },
  {
   "cell_type": "markdown",
   "id": "12195e7e-bf66-4d17-a198-4c20d6aaf8a2",
   "metadata": {
    "tags": []
   },
   "source": [
    "## Simple Dictionaries"
   ]
  },
  {
   "cell_type": "code",
   "execution_count": 3,
   "id": "0f719d99-0bed-4539-8277-071526246359",
   "metadata": {
    "tags": []
   },
   "outputs": [
    {
     "name": "stdout",
     "output_type": "stream",
     "text": [
      "node1\n"
     ]
    },
    {
     "data": {
      "text/plain": [
       "'linux'"
      ]
     },
     "execution_count": 3,
     "metadata": {},
     "output_type": "execute_result"
    }
   ],
   "source": [
    "my_server = {\"name\": \"node1\", \"ip\": \"192.168.1.2\", \"os\": \"linux\"}\n",
    "print(my_server[\"name\"])\n",
    "attribute = \"os\"\n",
    "my_server[attribute]"
   ]
  }
 ],
 "metadata": {
  "kernelspec": {
   "display_name": "Python 3 (ipykernel)",
   "language": "python",
   "name": "python3"
  },
  "language_info": {
   "codemirror_mode": {
    "name": "ipython",
    "version": 3
   },
   "file_extension": ".py",
   "mimetype": "text/x-python",
   "name": "python",
   "nbconvert_exporter": "python",
   "pygments_lexer": "ipython3",
   "version": "3.9.9"
  }
 },
 "nbformat": 4,
 "nbformat_minor": 5
}
